{
 "cells": [
  {
   "cell_type": "code",
   "execution_count": 28,
   "metadata": {},
   "outputs": [],
   "source": [
    "import matplotlib.pyplot as plt\n",
    "import numpy as np\n",
    "import os\n",
    "import PIL\n",
    "import tensorflow as tf\n",
    "from tensorflow import keras\n",
    "from tensorflow.keras.preprocessing.image import ImageDataGenerator\n",
    "from tensorflow.keras import layers\n",
    "from tensorflow.keras.models import Sequential\n",
    "import pathlib\n",
    "import glob\n",
    "import itertools\n",
    "import pandas as pd\n",
    "#import splitfolders\n",
    "from tensorflow.keras.callbacks import ModelCheckpoint, ReduceLROnPlateau, EarlyStopping\n",
    "from tensorflow.keras.layers import Conv2D, Flatten, Dense, MaxPooling2D, BatchNormalization, GlobalAveragePooling2D\n",
    "from tensorflow.keras.applications.resnet50 import preprocess_input, decode_predictions\n",
    "from tensorflow.keras.preprocessing.image import load_img\n",
    "from tensorflow.keras.applications.resnet50 import ResNet50\n",
    "from tensorflow.keras.preprocessing import image\n",
    "from tensorflow.keras.models import Model\n",
    "from tensorflow.keras.optimizers import Adam\n",
    "from sklearn.metrics import confusion_matrix\n",
    "from sklearn.metrics import precision_score, recall_score, f1_score, accuracy_score\n",
    "from sklearn.metrics import classification_report\n",
    "from mlxtend.plotting import plot_confusion_matrix"
   ]
  },
  {
   "cell_type": "code",
   "execution_count": null,
   "metadata": {},
   "outputs": [],
   "source": [
    "train_data_dir = r\"D:/experiments/Datasets/ip102_v1.1-002/ip102_v1.1/prepared_data/train_all/\"\n",
    "valid_data_dir = r\"D:/experiments/Datasets/ip102_v1.1-002/ip102_v1.1/prepared_data/val_all/\"\n",
    "test_data_dir = r\"D:/experiments/Datasets/ip102_v1.1-002/ip102_v1.1/prepared_data/test_all/\""
   ]
  },
  {
   "cell_type": "code",
   "execution_count": 13,
   "metadata": {},
   "outputs": [],
   "source": [
    "classes = ['rice leaf roller',\n",
    "        'rice leaf caterpillar',\n",
    "        'paddy stem maggot',\n",
    "        'asiatic rice borer',\n",
    "        'yellow rice borer',\n",
    "        'rice gall midge',\n",
    "        'Rice Stemfly',\n",
    "        'brown plant hopper',\n",
    "        'white backed plant hopper',\n",
    "        'small brown plant hopper',\n",
    "        'rice water weevil',\n",
    "        'rice leafhopper',\n",
    "        'grain spreader thrips',\n",
    "        'rice shell pest',\n",
    "        'grub',\n",
    "        'mole cricket',\n",
    "        'wireworm',\n",
    "        'white margined moth',\n",
    "        'black cutworm',\n",
    "        'large cutworm',\n",
    "        'yellow cutworm',\n",
    "        'red spider',\n",
    "        'corn borer',\n",
    "        'army worm',\n",
    "        'aphids',\n",
    "        'Potosiabre vitarsis',\n",
    "        'peach borer',\n",
    "        'english grain aphid',\n",
    "        'green bug',\n",
    "        'bird cherry-oataphid',\n",
    "        'wheat blossom midge',\n",
    "        'penthaleus major',\n",
    "        'longlegged spider mite',\n",
    "        'wheat phloeothrips',\n",
    "        'wheat sawfly',\n",
    "        'cerodonta denticornis',\n",
    "        'beet fly',\n",
    "        'flea beetle',\n",
    "        'cabbage army worm',\n",
    "        'beet army worm',\n",
    "        'Beet spot flies',\n",
    "        'meadow moth',\n",
    "        'beet weevil',\n",
    "        'sericaorient alismots chulsky',\n",
    "        'alfalfa weevil',\n",
    "        'flax budworm',\n",
    "        'alfalfa plant bug',\n",
    "        'tarnished plant bug',\n",
    "        'Locustoidea',\n",
    "        'lytta polita',\n",
    "        'legume blister beetle',\n",
    "        'blister beetle',\n",
    "        'therioaphis maculata Buckton',\n",
    "        'odontothrips loti',\n",
    "        'Thrips',\n",
    "        'alfalfa seed chalcid',\n",
    "        'Pieris canidia',\n",
    "        'Apolygus lucorum',\n",
    "        'Limacodidae',\n",
    "        'Viteus vitifoliae',\n",
    "        'Colomerus vitis',\n",
    "        'Brevipoalpus lewisi McGregor',\n",
    "        'oides decempunctata',\n",
    "        'Polyphagotars onemus latus',\n",
    "        'Pseudococcus comstocki Kuwana',\n",
    "        'parathrene regalis',\n",
    "        'Ampelophaga',\n",
    "        'Lycorma delicatula',\n",
    "        'Xylotrechus',\n",
    "        'Cicadella viridis',\n",
    "        'Miridae',\n",
    "        'Trialeurodes vaporariorum',\n",
    "        'Erythroneura apicalis',\n",
    "        'Papilio xuthus',\n",
    "        'Panonchus citri McGregor',\n",
    "        'Phyllocoptes oleiverus ashmead',\n",
    "        'Icerya purchasi Maskell',\n",
    "        'Unaspis yanonensis',\n",
    "        'Ceroplastes rubens',\n",
    "        'Chrysomphalus aonidum',\n",
    "        'Parlatoria zizyphus Lucus',\n",
    "        'Nipaecoccus vastalor',\n",
    "        'Aleurocanthus spiniferus',\n",
    "        'Tetradacus c Bactrocera minax',\n",
    "        'Dacus dorsalis(Hendel)',\n",
    "        'Bactrocera tsuneonis',\n",
    "        'Prodenia litura',\n",
    "        'Adristyrannus',\n",
    "        'Phyllocnistis citrella Stainton',\n",
    "        'Toxoptera citricidus',\n",
    "        'Toxoptera aurantii',\n",
    "        'Aphis citricola Vander Goot',\n",
    "        'Scirtothrips dorsalis Hood',\n",
    "        'Dasineura sp',\n",
    "        'Lawana imitata Melichar',\n",
    "        'Salurnis marginella Guerr',\n",
    "        'Deporaus marginatus Pascoe',\n",
    "        'Chlumetia transversa',\n",
    "        'Mango flat beak leafhopper',\n",
    "        'Rhytidodera bowrinii white',\n",
    "        'Sternochetus frigidus',\n",
    "        'Cicadellidae'\n",
    "]"
   ]
  },
  {
   "cell_type": "markdown",
   "metadata": {},
   "source": [
    "# ResNet50"
   ]
  },
  {
   "cell_type": "code",
   "execution_count": 14,
   "metadata": {},
   "outputs": [],
   "source": [
    "datagen = ImageDataGenerator(\n",
    "    preprocessing_function=tf.keras.applications.resnet50.preprocess_input,\n",
    "    rescale=1./255,\n",
    "    rotation_range=20,\n",
    "    width_shift_range=0.1,\n",
    "    height_shift_range=0.1,\n",
    "    shear_range=0.1,\n",
    "    zoom_range=0.1,\n",
    "    horizontal_flip=True,\n",
    "    fill_mode='nearest'\n",
    ")"
   ]
  },
  {
   "cell_type": "code",
   "execution_count": 15,
   "metadata": {},
   "outputs": [],
   "source": [
    "# datagen = ImageDataGenerator()"
   ]
  },
  {
   "cell_type": "code",
   "execution_count": 16,
   "metadata": {},
   "outputs": [
    {
     "name": "stdout",
     "output_type": "stream",
     "text": [
      "Found 38400 images belonging to 102 classes.\n",
      "Found 6352 images belonging to 102 classes.\n",
      "Found 20047 images belonging to 102 classes.\n"
     ]
    }
   ],
   "source": [
    "train_batchs_Res = datagen.flow_from_directory(directory=train_data_dir, target_size=(224,224), classes=classes, batch_size=64)\n",
    "\n",
    "valid_batchs_Res = datagen.flow_from_directory(directory=valid_data_dir, target_size=(224,224), classes=classes, batch_size=64)\n",
    "\n",
    "test_batchs_Res = datagen.flow_from_directory(directory=test_data_dir, target_size=(224,224), classes=classes, batch_size=64, shuffle=False)"
   ]
  },
  {
   "cell_type": "code",
   "execution_count": 17,
   "metadata": {},
   "outputs": [],
   "source": [
    "base_model_Res = ResNet50(include_top = False, weights = 'imagenet')"
   ]
  },
  {
   "cell_type": "code",
   "execution_count": 18,
   "metadata": {},
   "outputs": [],
   "source": [
    "x = base_model_Res.output\n",
    "x = GlobalAveragePooling2D()(x)\n",
    "x = Dense(1024, activation='relu')(x)\n",
    "\n",
    "predictions = Dense(train_batchs_Res.num_classes, activation='softmax')(x)\n",
    "\n",
    "modelRes = Model(inputs=base_model_Res.input, outputs=predictions)\n",
    "\n",
    "for layer in base_model_Res.layers:\n",
    "    layer.trainable = True"
   ]
  },
  {
   "cell_type": "code",
   "execution_count": 19,
   "metadata": {},
   "outputs": [],
   "source": [
    "modelRes.compile(optimizer = Adam(learning_rate=0.0001), loss = 'categorical_crossentropy', metrics = ['accuracy'])"
   ]
  },
  {
   "cell_type": "code",
   "execution_count": 20,
   "metadata": {},
   "outputs": [],
   "source": [
    "callbacks = [\n",
    "        ModelCheckpoint(\"SavedModels/resnet_50_model/model_resnet50_aug.h5\", verbose=1, save_best_model=True),\n",
    "        ReduceLROnPlateau(monitor=\"val_loss\", patience=3, factor=0.1, verbose=1, min_lr=1e-6),\n",
    "        EarlyStopping(monitor=\"val_loss\", patience=5, verbose=1)\n",
    "    ]"
   ]
  },
  {
   "cell_type": "code",
   "execution_count": 21,
   "metadata": {},
   "outputs": [
    {
     "name": "stdout",
     "output_type": "stream",
     "text": [
      "Epoch 1/500\n",
      "600/600 [==============================] - ETA: 0s - loss: 1.8775 - accuracy: 0.5366\n",
      "Epoch 1: saving model to SavedModels/resnet_50_model\\model_resnet50_aug.h5\n",
      "600/600 [==============================] - 366s 602ms/step - loss: 1.8775 - accuracy: 0.5366 - val_loss: 3.8647 - val_accuracy: 0.1618 - lr: 1.0000e-04\n",
      "Epoch 2/500\n",
      "600/600 [==============================] - ETA: 0s - loss: 1.1279 - accuracy: 0.6857\n",
      "Epoch 2: saving model to SavedModels/resnet_50_model\\model_resnet50_aug.h5\n",
      "600/600 [==============================] - 206s 343ms/step - loss: 1.1279 - accuracy: 0.6857 - val_loss: 1.4441 - val_accuracy: 0.6158 - lr: 1.0000e-04\n",
      "Epoch 3/500\n",
      "600/600 [==============================] - ETA: 0s - loss: 0.8770 - accuracy: 0.7448\n",
      "Epoch 3: saving model to SavedModels/resnet_50_model\\model_resnet50_aug.h5\n",
      "600/600 [==============================] - 207s 344ms/step - loss: 0.8770 - accuracy: 0.7448 - val_loss: 1.2715 - val_accuracy: 0.6687 - lr: 1.0000e-04\n",
      "Epoch 4/500\n",
      "600/600 [==============================] - ETA: 0s - loss: 0.7110 - accuracy: 0.7846\n",
      "Epoch 4: saving model to SavedModels/resnet_50_model\\model_resnet50_aug.h5\n",
      "600/600 [==============================] - 208s 346ms/step - loss: 0.7110 - accuracy: 0.7846 - val_loss: 1.3354 - val_accuracy: 0.6574 - lr: 1.0000e-04\n",
      "Epoch 5/500\n",
      "600/600 [==============================] - ETA: 0s - loss: 0.5899 - accuracy: 0.8167\n",
      "Epoch 5: saving model to SavedModels/resnet_50_model\\model_resnet50_aug.h5\n",
      "600/600 [==============================] - 208s 347ms/step - loss: 0.5899 - accuracy: 0.8167 - val_loss: 1.3893 - val_accuracy: 0.6562 - lr: 1.0000e-04\n",
      "Epoch 6/500\n",
      "600/600 [==============================] - ETA: 0s - loss: 0.5041 - accuracy: 0.8413\n",
      "Epoch 6: saving model to SavedModels/resnet_50_model\\model_resnet50_aug.h5\n",
      "\n",
      "Epoch 6: ReduceLROnPlateau reducing learning rate to 9.999999747378752e-06.\n",
      "600/600 [==============================] - 208s 346ms/step - loss: 0.5041 - accuracy: 0.8413 - val_loss: 1.3486 - val_accuracy: 0.6757 - lr: 1.0000e-04\n",
      "Epoch 7/500\n",
      "600/600 [==============================] - ETA: 0s - loss: 0.2800 - accuracy: 0.9123\n",
      "Epoch 7: saving model to SavedModels/resnet_50_model\\model_resnet50_aug.h5\n",
      "600/600 [==============================] - 209s 348ms/step - loss: 0.2800 - accuracy: 0.9123 - val_loss: 1.1463 - val_accuracy: 0.7262 - lr: 1.0000e-05\n",
      "Epoch 8/500\n",
      "600/600 [==============================] - ETA: 0s - loss: 0.2145 - accuracy: 0.9336\n",
      "Epoch 8: saving model to SavedModels/resnet_50_model\\model_resnet50_aug.h5\n",
      "600/600 [==============================] - 208s 346ms/step - loss: 0.2145 - accuracy: 0.9336 - val_loss: 1.1704 - val_accuracy: 0.7265 - lr: 1.0000e-05\n",
      "Epoch 9/500\n",
      "600/600 [==============================] - ETA: 0s - loss: 0.1904 - accuracy: 0.9395\n",
      "Epoch 9: saving model to SavedModels/resnet_50_model\\model_resnet50_aug.h5\n",
      "600/600 [==============================] - 211s 351ms/step - loss: 0.1904 - accuracy: 0.9395 - val_loss: 1.2003 - val_accuracy: 0.7251 - lr: 1.0000e-05\n",
      "Epoch 10/500\n",
      "600/600 [==============================] - ETA: 0s - loss: 0.1697 - accuracy: 0.9457\n",
      "Epoch 10: saving model to SavedModels/resnet_50_model\\model_resnet50_aug.h5\n",
      "\n",
      "Epoch 10: ReduceLROnPlateau reducing learning rate to 1e-06.\n",
      "600/600 [==============================] - 274s 457ms/step - loss: 0.1697 - accuracy: 0.9457 - val_loss: 1.2057 - val_accuracy: 0.7230 - lr: 1.0000e-05\n",
      "Epoch 11/500\n",
      "600/600 [==============================] - ETA: 0s - loss: 0.1455 - accuracy: 0.9548\n",
      "Epoch 11: saving model to SavedModels/resnet_50_model\\model_resnet50_aug.h5\n",
      "600/600 [==============================] - 411s 685ms/step - loss: 0.1455 - accuracy: 0.9548 - val_loss: 1.2031 - val_accuracy: 0.7287 - lr: 1.0000e-06\n",
      "Epoch 12/500\n",
      "600/600 [==============================] - ETA: 0s - loss: 0.1406 - accuracy: 0.9559\n",
      "Epoch 12: saving model to SavedModels/resnet_50_model\\model_resnet50_aug.h5\n",
      "600/600 [==============================] - 254s 423ms/step - loss: 0.1406 - accuracy: 0.9559 - val_loss: 1.2164 - val_accuracy: 0.7337 - lr: 1.0000e-06\n",
      "Epoch 12: early stopping\n"
     ]
    }
   ],
   "source": [
    "history_Res = modelRes.fit(x = train_batchs_Res, \n",
    "            steps_per_epoch=train_batchs_Res.samples // 64,\n",
    "            validation_data = valid_batchs_Res,\n",
    "            validation_steps=valid_batchs_Res.samples // 64,\n",
    "            epochs = 500, verbose = 1,\n",
    "            callbacks=callbacks,)"
   ]
  },
  {
   "cell_type": "code",
   "execution_count": 22,
   "metadata": {},
   "outputs": [],
   "source": [
    "Res_model = tf.keras.models.load_model('SavedModels/resnet_50_model/model_resnet50_aug.h5')\n",
    "\n",
    "Res_predictions = Res_model.predict(x=test_batchs_Res, verbose=0)"
   ]
  },
  {
   "cell_type": "code",
   "execution_count": 38,
   "metadata": {},
   "outputs": [
    {
     "name": "stdout",
     "output_type": "stream",
     "text": [
      "Precision: 0.713208\n",
      "Recall: 0.714571\n",
      "F1 score: 0.708687\n",
      "Accuracy: 0.714571\n"
     ]
    }
   ],
   "source": [
    "y_pred_Res = np.argmax(Res_predictions, axis=1)\n",
    "y_true_Res = test_batchs_Res.classes\n",
    "\n",
    "precision = precision_score(y_true_Res, y_pred_Res, average='weighted', zero_division=0)\n",
    "print('Precision: %f' % precision)\n",
    "\n",
    "recall = recall_score(y_true_Res, y_pred_Res, average='weighted', zero_division=0)\n",
    "print('Recall: %f' % recall)\n",
    "\n",
    "f1 = f1_score(y_true_Res, y_pred_Res, average='weighted', zero_division=0)\n",
    "print('F1 score: %f' % f1)\n",
    "\n",
    "accuracy = accuracy_score(y_true_Res, y_pred_Res)\n",
    "print('Accuracy: %f' % accuracy)"
   ]
  },
  {
   "cell_type": "code",
   "execution_count": null,
   "metadata": {},
   "outputs": [
    {
     "name": "stdout",
     "output_type": "stream",
     "text": [
      "                                 precision    recall  f1-score   support\n",
      "\n",
      "               rice leaf roller       0.62      0.81      0.70       226\n",
      "          rice leaf caterpillar       0.52      0.50      0.51       110\n",
      "              paddy stem maggot       0.47      0.17      0.25        42\n",
      "             asiatic rice borer       0.63      0.62      0.63       207\n",
      "              yellow rice borer       0.67      0.70      0.68       116\n",
      "                rice gall midge       0.81      0.76      0.79       110\n",
      "                   Rice Stemfly       0.48      0.61      0.54        61\n",
      "             brown plant hopper       0.64      0.46      0.54       186\n",
      "      white backed plant hopper       0.60      0.62      0.61       164\n",
      "       small brown plant hopper       0.54      0.49      0.52        91\n",
      "              rice water weevil       0.75      0.75      0.75       171\n",
      "                rice leafhopper       0.42      0.47      0.45       109\n",
      "          grain spreader thrips       0.58      0.54      0.56        52\n",
      "                rice shell pest       0.70      0.39      0.50        76\n",
      "                           grub       0.84      0.90      0.87       253\n",
      "                   mole cricket       0.94      0.96      0.95       483\n",
      "                       wireworm       0.82      0.86      0.84       222\n",
      "            white margined moth       0.42      0.39      0.41        38\n",
      "                  black cutworm       0.56      0.63      0.59       211\n",
      "                  large cutworm       0.34      0.30      0.32       132\n",
      "                 yellow cutworm       0.41      0.41      0.41       125\n",
      "                     red spider       0.65      0.64      0.65       150\n",
      "                     corn borer       0.70      0.72      0.71       375\n",
      "                      army worm       0.54      0.54      0.54       275\n",
      "                         aphids       0.70      0.77      0.74      1229\n",
      "            Potosiabre vitarsis       0.90      0.88      0.89       169\n",
      "                    peach borer       0.72      0.78      0.75       186\n",
      "            english grain aphid       0.41      0.36      0.38       197\n",
      "                      green bug       0.28      0.27      0.27        98\n",
      "           bird cherry-oataphid       0.40      0.46      0.43       213\n",
      "            wheat blossom midge       0.90      0.79      0.84       117\n",
      "               penthaleus major       0.71      0.51      0.59        63\n",
      "         longlegged spider mite       0.46      0.45      0.46        51\n",
      "             wheat phloeothrips       0.57      0.68      0.62        77\n",
      "                   wheat sawfly       0.79      0.62      0.70        93\n",
      "          cerodonta denticornis       0.45      0.41      0.43        32\n",
      "                       beet fly       0.43      0.36      0.39        25\n",
      "                    flea beetle       0.78      0.81      0.80       237\n",
      "              cabbage army worm       0.41      0.43      0.42       227\n",
      "                 beet army worm       0.56      0.59      0.57       357\n",
      "                Beet spot flies       0.59      0.55      0.57        65\n",
      "                    meadow moth       0.77      0.67      0.72        72\n",
      "                    beet weevil       0.58      0.56      0.57        93\n",
      "  sericaorient alismots chulsky       0.70      0.69      0.69        51\n",
      "                 alfalfa weevil       0.66      0.61      0.63       120\n",
      "                   flax budworm       0.44      0.45      0.44       284\n",
      "              alfalfa plant bug       0.47      0.48      0.47       197\n",
      "            tarnished plant bug       0.62      0.50      0.56       237\n",
      "                    Locustoidea       0.86      0.89      0.87       419\n",
      "                   lytta polita       0.62      0.49      0.55       197\n",
      "          legume blister beetle       0.69      0.77      0.73       423\n",
      "                 blister beetle       0.66      0.66      0.66       569\n",
      "   therioaphis maculata Buckton       0.32      0.21      0.25        48\n",
      "              odontothrips loti       0.69      0.57      0.63        54\n",
      "                         Thrips       0.25      0.18      0.21        72\n",
      "           alfalfa seed chalcid       0.33      0.45      0.38        53\n",
      "                 Pieris canidia       0.92      0.94      0.93       141\n",
      "               Apolygus lucorum       0.36      0.41      0.38       102\n",
      "                    Limacodidae       0.91      0.88      0.90       413\n",
      "              Viteus vitifoliae       1.00      0.02      0.04        94\n",
      "                Colomerus vitis       0.00      0.00      0.00        35\n",
      "   Brevipoalpus lewisi McGregor       1.00      0.22      0.36         9\n",
      "            oides decempunctata       0.95      0.94      0.95        83\n",
      "     Polyphagotars onemus latus       0.57      0.44      0.50         9\n",
      "  Pseudococcus comstocki Kuwana       0.77      0.43      0.55        87\n",
      "             parathrene regalis       0.79      0.72      0.75        36\n",
      "                    Ampelophaga       0.81      0.69      0.75       229\n",
      "             Lycorma delicatula       0.85      0.89      0.87      1547\n",
      "                    Xylotrechus       0.84      0.83      0.83       344\n",
      "              Cicadella viridis       0.79      0.81      0.80       382\n",
      "                        Miridae       0.77      0.82      0.79      1525\n",
      "      Trialeurodes vaporariorum       0.76      0.79      0.78       156\n",
      "          Erythroneura apicalis       0.60      0.68      0.64        22\n",
      "                 Papilio xuthus       0.98      0.96      0.97       132\n",
      "       Panonchus citri McGregor       0.66      0.87      0.75        86\n",
      " Phyllocoptes oleiverus ashmead       0.00      0.00      0.00         2\n",
      "        Icerya purchasi Maskell       0.72      0.84      0.78       217\n",
      "             Unaspis yanonensis       0.78      0.45      0.57       125\n",
      "             Ceroplastes rubens       0.75      0.77      0.76        74\n",
      "          Chrysomphalus aonidum       0.75      0.24      0.37        62\n",
      "      Parlatoria zizyphus Lucus       0.00      0.00      0.00         5\n",
      "           Nipaecoccus vastalor       0.64      0.32      0.42        22\n",
      "       Aleurocanthus spiniferus       0.86      0.94      0.90       147\n",
      "  Tetradacus c Bactrocera minax       0.78      0.71      0.74        97\n",
      "         Dacus dorsalis(Hendel)       0.63      0.69      0.66       112\n",
      "           Bactrocera tsuneonis       0.46      0.45      0.45        47\n",
      "                Prodenia litura       0.63      0.66      0.65       333\n",
      "                  Adristyrannus       0.74      0.71      0.73        90\n",
      "Phyllocnistis citrella Stainton       0.87      0.67      0.76        72\n",
      "           Toxoptera citricidus       0.39      0.27      0.32        55\n",
      "             Toxoptera aurantii       0.60      0.55      0.57        56\n",
      "    Aphis citricola Vander Goot       0.61      0.67      0.64       106\n",
      "     Scirtothrips dorsalis Hood       0.77      0.66      0.71       143\n",
      "                   Dasineura sp       0.39      0.27      0.32        41\n",
      "        Lawana imitata Melichar       0.79      0.80      0.80       174\n",
      "      Salurnis marginella Guerr       0.77      0.83      0.80       146\n",
      "     Deporaus marginatus Pascoe       0.67      0.56      0.61        63\n",
      "           Chlumetia transversa       0.45      0.36      0.40        77\n",
      "     Mango flat beak leafhopper       0.60      0.29      0.39        21\n",
      "     Rhytidodera bowrinii white       0.72      0.63      0.67       165\n",
      "          Sternochetus frigidus       0.65      0.70      0.67       132\n",
      "                   Cicadellidae       0.84      0.86      0.85      1721\n",
      "\n",
      "                       accuracy                           0.71     20047\n",
      "                      macro avg       0.63      0.58      0.59     20047\n",
      "                   weighted avg       0.71      0.71      0.71     20047\n",
      "\n"
     ]
    },
    {
     "name": "stderr",
     "output_type": "stream",
     "text": [
      "c:\\Users\\33735203\\anaconda3\\envs\\tf\\lib\\site-packages\\sklearn\\metrics\\_classification.py:1471: UndefinedMetricWarning: Precision and F-score are ill-defined and being set to 0.0 in labels with no predicted samples. Use `zero_division` parameter to control this behavior.\n",
      "  _warn_prf(average, modifier, msg_start, len(result))\n",
      "c:\\Users\\33735203\\anaconda3\\envs\\tf\\lib\\site-packages\\sklearn\\metrics\\_classification.py:1471: UndefinedMetricWarning: Precision and F-score are ill-defined and being set to 0.0 in labels with no predicted samples. Use `zero_division` parameter to control this behavior.\n",
      "  _warn_prf(average, modifier, msg_start, len(result))\n",
      "c:\\Users\\33735203\\anaconda3\\envs\\tf\\lib\\site-packages\\sklearn\\metrics\\_classification.py:1471: UndefinedMetricWarning: Precision and F-score are ill-defined and being set to 0.0 in labels with no predicted samples. Use `zero_division` parameter to control this behavior.\n",
      "  _warn_prf(average, modifier, msg_start, len(result))\n"
     ]
    }
   ],
   "source": [
    "print(classification_report(y_true_Res, y_pred_Res, target_names = classes, zero_division=0))"
   ]
  },
  {
   "cell_type": "code",
   "execution_count": 40,
   "metadata": {},
   "outputs": [],
   "source": [
    "#Get the filename including last folder\n",
    "image_names = [os.path.basename(filename) for filename in test_batchs_Res.filenames]\n",
    "\n",
    "\n",
    "# Get the image names from the ImageDataGenerator\n",
    "image_names = test_batchs_Res.filenames\n",
    "\n",
    "df = pd.DataFrame({'Image Name': image_names, 'Predicted': y_pred_Res, 'Ground Truth': y_true_Res})\n",
    "df.to_csv('results_R50_cls_aug.csv', index=False)"
   ]
  },
  {
   "cell_type": "code",
   "execution_count": null,
   "metadata": {},
   "outputs": [
    {
     "data": {
      "text/plain": [
       "(<Figure size 3600x3600 with 1 Axes>,\n",
       " <Axes: xlabel='predicted label', ylabel='true label'>)"
      ]
     },
     "execution_count": 41,
     "metadata": {},
     "output_type": "execute_result"
    }
   ],
   "source": [
    "matRes = confusion_matrix(y_true_Res,y_pred_Res)\n",
    "plot_confusion_matrix(matRes, figsize=(36,36), class_names=classes, show_normed=True)"
   ]
  }
 ],
 "metadata": {
  "kernelspec": {
   "display_name": "tf",
   "language": "python",
   "name": "python3"
  },
  "language_info": {
   "codemirror_mode": {
    "name": "ipython",
    "version": 3
   },
   "file_extension": ".py",
   "mimetype": "text/x-python",
   "name": "python",
   "nbconvert_exporter": "python",
   "pygments_lexer": "ipython3",
   "version": "3.9.18"
  }
 },
 "nbformat": 4,
 "nbformat_minor": 4
}
