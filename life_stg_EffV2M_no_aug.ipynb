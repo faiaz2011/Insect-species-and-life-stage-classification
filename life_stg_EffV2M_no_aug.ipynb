{
 "cells": [
  {
   "cell_type": "code",
   "execution_count": 1,
   "id": "c6481902",
   "metadata": {},
   "outputs": [],
   "source": [
    "import matplotlib.pyplot as plt\n",
    "import numpy as np\n",
    "import os\n",
    "import PIL\n",
    "import tensorflow as tf\n",
    "from tensorflow import keras\n",
    "from tensorflow.keras.preprocessing.image import ImageDataGenerator\n",
    "from tensorflow.keras import layers\n",
    "from tensorflow.keras.models import Sequential\n",
    "import pathlib\n",
    "import glob\n",
    "import itertools\n",
    "import pandas as pd\n",
    "import seaborn as sns\n",
    "import pydot\n",
    "\n",
    "from tensorflow.keras.callbacks import ModelCheckpoint, ReduceLROnPlateau, EarlyStopping\n",
    "from tensorflow.keras.layers import Conv2D, Flatten, Dense, MaxPooling2D, BatchNormalization, GlobalAveragePooling2D\n",
    "from tensorflow.keras.applications.resnet50 import preprocess_input, decode_predictions\n",
    "from tensorflow.keras.preprocessing.image import load_img\n",
    "from tensorflow.keras.applications.efficientnet_v2 import EfficientNetV2M\n",
    "from tensorflow.keras.applications.resnet50 import ResNet50\n",
    "from tensorflow.keras.models import Model\n",
    "from tensorflow.keras.optimizers import Adam\n",
    "\n",
    "from tensorflow.keras.utils import plot_model\n",
    "\n",
    "from sklearn.utils.class_weight import compute_class_weight\n",
    "from sklearn.metrics import confusion_matrix\n",
    "from sklearn.metrics import accuracy_score, precision_score, recall_score, f1_score\n",
    "from sklearn.metrics import classification_report\n",
    "from mlxtend.plotting import plot_confusion_matrix\n"
   ]
  },
  {
   "cell_type": "code",
   "execution_count": 2,
   "id": "5250abc4",
   "metadata": {},
   "outputs": [],
   "source": [
    "train_data_dir = r\"D:/experiments/Datasets/ip102_v1.1-002/ip102_v1.1/prepared_data/train_stg/\"\n",
    "valid_data_dir = r\"D:/experiments/Datasets/ip102_v1.1-002/ip102_v1.1/prepared_data/val_stg/\"\n",
    "test_data_dir = r\"D:/experiments/Datasets/ip102_v1.1-002/ip102_v1.1/prepared_data/test_stg/\""
   ]
  },
  {
   "cell_type": "code",
   "execution_count": 3,
   "id": "97c09b5b",
   "metadata": {},
   "outputs": [],
   "source": [
    "classes = [\n",
    "        'Adult',\n",
    "        'Larva',\n",
    "        'Pupa',\n",
    "        'Egg'\n",
    "]"
   ]
  },
  {
   "cell_type": "markdown",
   "id": "63597f0d",
   "metadata": {},
   "source": [
    "EfficientNetV2M"
   ]
  },
  {
   "cell_type": "code",
   "execution_count": 4,
   "id": "326783b3",
   "metadata": {},
   "outputs": [],
   "source": [
    "# datagen = ImageDataGenerator(\n",
    "#     # preprocessing_function=tf.keras.applications.resnet50.preprocess_input,\n",
    "#     rescale=1./255,\n",
    "#     rotation_range=20,\n",
    "#     width_shift_range=0.1,\n",
    "#     height_shift_range=0.1,\n",
    "#     shear_range=0.1,\n",
    "#     zoom_range=0.1,\n",
    "#     vertical_flip=True,\n",
    "#     horizontal_flip=True,\n",
    "#     fill_mode='nearest'\n",
    "# )"
   ]
  },
  {
   "cell_type": "code",
   "execution_count": 5,
   "id": "287cb382",
   "metadata": {},
   "outputs": [],
   "source": [
    "#Without data augmentation\n",
    "datagen = ImageDataGenerator()"
   ]
  },
  {
   "cell_type": "code",
   "execution_count": 6,
   "id": "e4deff79",
   "metadata": {},
   "outputs": [
    {
     "name": "stdout",
     "output_type": "stream",
     "text": [
      "Found 38400 images belonging to 4 classes.\n",
      "Found 6352 images belonging to 4 classes.\n",
      "Found 20047 images belonging to 4 classes.\n"
     ]
    }
   ],
   "source": [
    "train_batchs_Res = datagen.flow_from_directory(directory=train_data_dir, target_size=(224,224), classes=classes,class_mode='categorical', batch_size=64)\n",
    "\n",
    "valid_batchs_Res = datagen.flow_from_directory(directory=valid_data_dir, target_size=(224,224), classes=classes,class_mode='categorical', batch_size=64)\n",
    "\n",
    "test_batchs_Res = datagen.flow_from_directory(directory=test_data_dir, target_size=(224,224), classes=classes,class_mode='categorical', batch_size=64, shuffle=False)"
   ]
  },
  {
   "cell_type": "code",
   "execution_count": 7,
   "id": "20dfc21a",
   "metadata": {},
   "outputs": [],
   "source": [
    "base_model_Res = EfficientNetV2M(include_top = False, weights = 'imagenet',input_shape=(224, 224, 3))\n",
    "\n",
    "for layer in base_model_Res.layers:\n",
    "    layer.trainable = True"
   ]
  },
  {
   "cell_type": "code",
   "execution_count": 8,
   "id": "5cab34e0",
   "metadata": {},
   "outputs": [],
   "source": [
    "x = base_model_Res.output\n",
    "x = GlobalAveragePooling2D()(x)\n",
    "x = Dense(1024, activation='relu')(x)\n",
    "\n",
    "predictions = Dense(train_batchs_Res.num_classes, activation='softmax')(x)\n",
    "\n",
    "modelRes = Model(inputs=base_model_Res.input, outputs=predictions)\n",
    "modelRes.compile(optimizer = Adam(learning_rate=0.0001), loss = 'categorical_crossentropy', metrics = ['accuracy'])"
   ]
  },
  {
   "cell_type": "code",
   "execution_count": 9,
   "id": "e5ddb77b",
   "metadata": {},
   "outputs": [],
   "source": [
    "callbacks = [\n",
    "        ModelCheckpoint(\"SavedModels/EfficientNetV2M/EfficientNetV2M_stg_no_aug.h5\", verbose=1, save_best_model=True),\n",
    "        ReduceLROnPlateau(monitor=\"val_loss\", patience=3, factor=0.1, verbose=1, min_lr=1e-6),\n",
    "        EarlyStopping(monitor=\"val_loss\", patience=5, verbose=1)\n",
    "    ]"
   ]
  },
  {
   "cell_type": "code",
   "execution_count": 10,
   "id": "44f39e35",
   "metadata": {},
   "outputs": [
    {
     "name": "stdout",
     "output_type": "stream",
     "text": [
      "Epoch 1/500\n",
      "600/600 [==============================] - ETA: 0s - loss: 0.1753 - accuracy: 0.9443\n",
      "Epoch 1: saving model to SavedModels/EfficientNetV2M\\EfficientNetV2M_stg_no_aug.h5\n",
      "600/600 [==============================] - 209s 328ms/step - loss: 0.1753 - accuracy: 0.9443 - val_loss: 0.1296 - val_accuracy: 0.9654 - lr: 1.0000e-04\n",
      "Epoch 2/500\n",
      "600/600 [==============================] - ETA: 0s - loss: 0.0518 - accuracy: 0.9839\n",
      "Epoch 2: saving model to SavedModels/EfficientNetV2M\\EfficientNetV2M_stg_no_aug.h5\n",
      "600/600 [==============================] - 172s 286ms/step - loss: 0.0518 - accuracy: 0.9839 - val_loss: 0.1544 - val_accuracy: 0.9648 - lr: 1.0000e-04\n",
      "Epoch 3/500\n",
      "600/600 [==============================] - ETA: 0s - loss: 0.0316 - accuracy: 0.9901\n",
      "Epoch 3: saving model to SavedModels/EfficientNetV2M\\EfficientNetV2M_stg_no_aug.h5\n",
      "600/600 [==============================] - 172s 286ms/step - loss: 0.0316 - accuracy: 0.9901 - val_loss: 0.1495 - val_accuracy: 0.9669 - lr: 1.0000e-04\n",
      "Epoch 4/500\n",
      "600/600 [==============================] - ETA: 0s - loss: 0.0246 - accuracy: 0.9922\n",
      "Epoch 4: saving model to SavedModels/EfficientNetV2M\\EfficientNetV2M_stg_no_aug.h5\n",
      "\n",
      "Epoch 4: ReduceLROnPlateau reducing learning rate to 9.999999747378752e-06.\n",
      "600/600 [==============================] - 170s 283ms/step - loss: 0.0246 - accuracy: 0.9922 - val_loss: 0.1510 - val_accuracy: 0.9684 - lr: 1.0000e-04\n",
      "Epoch 5/500\n",
      "600/600 [==============================] - ETA: 0s - loss: 0.0103 - accuracy: 0.9969\n",
      "Epoch 5: saving model to SavedModels/EfficientNetV2M\\EfficientNetV2M_stg_no_aug.h5\n",
      "600/600 [==============================] - 172s 286ms/step - loss: 0.0103 - accuracy: 0.9969 - val_loss: 0.1652 - val_accuracy: 0.9708 - lr: 1.0000e-05\n",
      "Epoch 6/500\n",
      "600/600 [==============================] - ETA: 0s - loss: 0.0047 - accuracy: 0.9985\n",
      "Epoch 6: saving model to SavedModels/EfficientNetV2M\\EfficientNetV2M_stg_no_aug.h5\n",
      "600/600 [==============================] - 172s 286ms/step - loss: 0.0047 - accuracy: 0.9985 - val_loss: 0.1797 - val_accuracy: 0.9717 - lr: 1.0000e-05\n",
      "Epoch 6: early stopping\n"
     ]
    }
   ],
   "source": [
    "history_Res = modelRes.fit(x = train_batchs_Res, \n",
    "            steps_per_epoch=train_batchs_Res.samples // 64,\n",
    "            validation_data = valid_batchs_Res,\n",
    "            validation_steps=valid_batchs_Res.samples // 64,\n",
    "            epochs = 500, verbose = 1,\n",
    "            callbacks=callbacks,\n",
    ")"
   ]
  },
  {
   "cell_type": "code",
   "execution_count": 11,
   "id": "49906e66",
   "metadata": {},
   "outputs": [],
   "source": [
    "Res_model = tf.keras.models.load_model('SavedModels/EfficientNetV2M/EfficientNetV2M_stg_no_aug.h5')\n",
    "\n",
    "Res_predictions = Res_model.predict(x=test_batchs_Res, verbose=0)"
   ]
  },
  {
   "cell_type": "code",
   "execution_count": 12,
   "id": "9ffd7fdc",
   "metadata": {},
   "outputs": [
    {
     "name": "stdout",
     "output_type": "stream",
     "text": [
      "Accuracy: 0.968374\n",
      "Precision: 0.967671\n",
      "Recall: 0.968374\n",
      "F1 score: 0.967774\n",
      "              precision    recall  f1-score   support\n",
      "\n",
      "       Adult       0.98      0.98      0.98     16252\n",
      "       Larva       0.92      0.94      0.93      3344\n",
      "        Pupa       0.79      0.67      0.73       356\n",
      "         Egg       0.78      0.49      0.61        95\n",
      "\n",
      "    accuracy                           0.97     20047\n",
      "   macro avg       0.87      0.77      0.81     20047\n",
      "weighted avg       0.97      0.97      0.97     20047\n",
      "\n"
     ]
    }
   ],
   "source": [
    "y_pred_Res = np.argmax(Res_predictions, axis=1)\n",
    "y_true_Res = test_batchs_Res.classes\n",
    "\n",
    "accuracy = accuracy_score(y_true_Res, y_pred_Res)\n",
    "print('Accuracy: %f' % accuracy)\n",
    "\n",
    "precision = precision_score(y_true_Res, y_pred_Res, average='weighted', zero_division=0)\n",
    "print('Precision: %f' % precision)\n",
    "\n",
    "recall = recall_score(y_true_Res, y_pred_Res, average='weighted', zero_division=0)\n",
    "print('Recall: %f' % recall)\n",
    "\n",
    "f1 = f1_score(y_true_Res, y_pred_Res, average='weighted', zero_division=0)\n",
    "print('F1 score: %f' % f1)\n",
    "\n",
    "print(classification_report(y_true_Res, y_pred_Res, target_names = classes))"
   ]
  },
  {
   "cell_type": "code",
   "execution_count": 13,
   "id": "aba754d3",
   "metadata": {},
   "outputs": [],
   "source": [
    "#Get the filename including last folder\n",
    "image_names = [os.path.basename(filename) for filename in test_batchs_Res.filenames]\n",
    "\n",
    "\n",
    "# Get the image names from the ImageDataGenerator\n",
    "image_names = test_batchs_Res.filenames\n",
    "\n",
    "df = pd.DataFrame({'Image Name': image_names, 'Predicted': y_pred_Res, 'Ground Truth': y_true_Res})\n",
    "df.to_csv('EfficientNetV2M_stg_no_aug.csv', index=False)"
   ]
  },
  {
   "cell_type": "code",
   "execution_count": 14,
   "id": "9182938d",
   "metadata": {},
   "outputs": [
    {
     "data": {
      "text/plain": [
       "(<Figure size 400x400 with 1 Axes>,\n",
       " <Axes: xlabel='predicted label', ylabel='true label'>)"
      ]
     },
     "execution_count": 14,
     "metadata": {},
     "output_type": "execute_result"
    },
    {
     "data": {
      "image/png": "[encoded data removed]",
      "text/plain": [
       "<Figure size 400x400 with 1 Axes>"
      ]
     },
     "metadata": {},
     "output_type": "display_data"
    }
   ],
   "source": [
    "matRes = confusion_matrix(y_true_Res,y_pred_Res)\n",
    "plot_confusion_matrix(matRes, figsize=(4,4), class_names=classes, show_normed=True)"
   ]
  },
  {
   "cell_type": "code",
   "execution_count": 15,
   "id": "9ebef651",
   "metadata": {},
   "outputs": [
    {
     "name": "stdout",
     "output_type": "stream",
     "text": [
      "Total inference time: 29.16 seconds\n",
      "Inference time per image: 92.8808 ms\n"
     ]
    }
   ],
   "source": [
    "import time\n",
    "\n",
    "# Load the model\n",
    "Res_model = tf.keras.models.load_model('SavedModels/EfficientNetV2M/EfficientNetV2M_stg_no_aug.h5')\n",
    "\n",
    "# Get the number of images in the test batch\n",
    "num_images = len(test_batchs_Res)\n",
    "\n",
    "# Start the timer before prediction\n",
    "start_time = time.time()\n",
    "\n",
    "# Make predictions\n",
    "Res_predictions = Res_model.predict(x=test_batchs_Res, verbose=0)\n",
    "\n",
    "# End the timer after prediction\n",
    "end_time = time.time()\n",
    "\n",
    "# Calculate total inference time in seconds\n",
    "total_inference_time = end_time - start_time\n",
    "\n",
    "# Calculate the time per image (in seconds)\n",
    "time_per_image = total_inference_time / num_images\n",
    "\n",
    "# Convert to milliseconds for easier interpretation\n",
    "time_per_image_ms = time_per_image * 1000\n",
    "\n",
    "# Print the results\n",
    "print(f\"Total inference time: {total_inference_time:.2f} seconds\")\n",
    "print(f\"Inference time per image: {time_per_image_ms:.4f} ms\")"
   ]
  }
 ],
 "metadata": {
  "kernelspec": {
   "display_name": "tf",
   "language": "python",
   "name": "python3"
  },
  "language_info": {
   "codemirror_mode": {
    "name": "ipython",
    "version": 3
   },
   "file_extension": ".py",
   "mimetype": "text/x-python",
   "name": "python",
   "nbconvert_exporter": "python",
   "pygments_lexer": "ipython3",
   "version": "3.9.18"
  }
 },
 "nbformat": 4,
 "nbformat_minor": 5
}
